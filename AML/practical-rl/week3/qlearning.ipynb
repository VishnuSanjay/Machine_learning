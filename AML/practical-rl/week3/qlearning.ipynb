{
 "cells": [
  {
   "cell_type": "markdown",
   "metadata": {},
   "source": [
    "## Q-learning\n",
    "\n",
    "This notebook will guide you through implementation of vanilla Q-learning algorithm.\n",
    "\n",
    "You need to implement QLearningAgent (follow instructions for each method) and use it on a number of tests below."
   ]
  },
  {
   "cell_type": "code",
   "execution_count": 44,
   "metadata": {},
   "outputs": [
    {
     "name": "stdout",
     "output_type": "stream",
     "text": [
      "The autoreload extension is already loaded. To reload it, use:\n",
      "  %reload_ext autoreload\n"
     ]
    }
   ],
   "source": [
    "#XVFB will be launched if you run on a server\n",
    "import os\n",
    "if type(os.environ.get(\"DISPLAY\")) is not str or len(os.environ.get(\"DISPLAY\"))==0:\n",
    "    !bash ../xvfb start\n",
    "    %env DISPLAY=:1\n",
    "        \n",
    "import numpy as np\n",
    "import matplotlib.pyplot as plt\n",
    "%matplotlib inline\n",
    "%load_ext autoreload\n",
    "%autoreload 2"
   ]
  },
  {
   "cell_type": "code",
   "execution_count": 45,
   "metadata": {},
   "outputs": [
    {
     "name": "stdout",
     "output_type": "stream",
     "text": [
      "Overwriting qlearning.py\n"
     ]
    }
   ],
   "source": [
    "%%writefile qlearning.py\n",
    "from collections import defaultdict\n",
    "import random, math\n",
    "import numpy as np\n",
    "\n",
    "class QLearningAgent:\n",
    "    def __init__(self, alpha, epsilon, discount, get_legal_actions):\n",
    "        \"\"\"\n",
    "        Q-Learning Agent\n",
    "        based on http://inst.eecs.berkeley.edu/~cs188/sp09/pacman.html\n",
    "        Instance variables you have access to\n",
    "          - self.epsilon (exploration prob)\n",
    "          - self.alpha (learning rate)\n",
    "          - self.discount (discount rate aka gamma)\n",
    "\n",
    "        Functions you should use\n",
    "          - self.get_legal_actions(state) {state, hashable -> list of actions, each is hashable}\n",
    "            which returns legal actions for a state\n",
    "          - self.get_qvalue(state,action)\n",
    "            which returns Q(state,action)\n",
    "          - self.set_qvalue(state,action,value)\n",
    "            which sets Q(state,action) := value\n",
    "\n",
    "        !!!Important!!!\n",
    "        Note: please avoid using self._qValues directly. \n",
    "            There's a special self.get_qvalue/set_qvalue for that.\n",
    "        \"\"\"\n",
    "\n",
    "        self.get_legal_actions = get_legal_actions\n",
    "        self._qvalues = defaultdict(lambda: defaultdict(lambda: 0))\n",
    "        self.alpha = alpha\n",
    "        self.epsilon = epsilon\n",
    "        self.discount = discount\n",
    "\n",
    "    def get_qvalue(self, state, action):\n",
    "        \"\"\" Returns Q(state,action) \"\"\"\n",
    "        return self._qvalues[state][action]\n",
    "\n",
    "    def set_qvalue(self,state,action,value):\n",
    "        \"\"\" Sets the Qvalue for [state,action] to the given value \"\"\"\n",
    "        self._qvalues[state][action] = value\n",
    "\n",
    "    #---------------------START OF YOUR CODE---------------------#\n",
    "\n",
    "    def get_value(self, state):\n",
    "        \"\"\"\n",
    "        Compute your agent's estimate of V(s) using current q-values\n",
    "        V(s) = max_over_action Q(state,action) over possible actions.\n",
    "        Note: please take into account that q-values can be negative.\n",
    "        \"\"\"\n",
    "        possible_actions = self.get_legal_actions(state)\n",
    "\n",
    "        #If there are no legal actions, return 0.0\n",
    "        if len(possible_actions) == 0:\n",
    "            return 0.0\n",
    "        qvallist = []\n",
    "        \n",
    "        #for i in possible_actions:\n",
    "            #qvallist = self.get_qvalue(state,i)\n",
    "        qvallist = [self.get_qvalue(state,action) for action in possible_actions]\n",
    "        \n",
    "        value = np.max(qvallist)\n",
    "        \n",
    "        #<YOUR CODE HERE>\n",
    "\n",
    "        return value\n",
    "\n",
    "    def update(self, state, action, reward, next_state):\n",
    "        \"\"\"\n",
    "        You should do your Q-Value update here:\n",
    "           Q(s,a) := (1 - alpha) * Q(s,a) + alpha * (r + gamma * V(s'))\n",
    "        \"\"\"\n",
    "\n",
    "        #agent parameters\n",
    "        gamma = self.discount\n",
    "        learning_rate = self.alpha\n",
    "        \n",
    "        qup = (1-learning_rate)* self.get_qvalue(state,action) + learning_rate * (reward + gamma * self.get_value(next_state))\n",
    "        \n",
    "        #<YOUR CODE HERE>\n",
    "        self.set_qvalue(state, action, qup)\n",
    "        #self.set_qvalue(state, action, <YOUR_QVALUE>)\n",
    "\n",
    "    \n",
    "    def get_best_action(self, state):\n",
    "        \"\"\"\n",
    "        Compute the best action to take in a state (using current q-values). \n",
    "        \"\"\"\n",
    "        possible_actions = self.get_legal_actions(state)\n",
    "\n",
    "        #If there are no legal actions, return None\n",
    "        if len(possible_actions) == 0:\n",
    "            return None\n",
    "        qvallist = []\n",
    "        \n",
    "        #for i in possible_actions:\n",
    "            #qvallist = self.get_qvalue(state,i)\n",
    "        qvallist = [self.get_qvalue(state,action) for action in possible_actions]\n",
    "        \n",
    "        value = np.argmax(qvallist)\n",
    "        best_action = possible_actions[value]\n",
    "\n",
    "        #<YOUR CODE HERE>\n",
    "\n",
    "        return best_action\n",
    "\n",
    "    def get_action(self, state):\n",
    "        \"\"\"\n",
    "        Compute the action to take in the current state, including exploration.  \n",
    "        With probability self.epsilon, we should take a random action.\n",
    "            otherwise - the best policy action (self.getPolicy).\n",
    "        \n",
    "        Note: To pick randomly from a list, use random.choice(list). \n",
    "              To pick True or False with a given probablity, generate uniform number in [0, 1]\n",
    "              and compare it with your probability\n",
    "        \"\"\"\n",
    "\n",
    "        # Pick Action\n",
    "        possible_actions = self.get_legal_actions(state)\n",
    "        #action = None\n",
    "        action = self.get_best_action(state)\n",
    "        #If there are no legal actions, return None\n",
    "        if len(possible_actions) == 0:\n",
    "            return None\n",
    "\n",
    "        #agent parameters:\n",
    "        epsilon = self.epsilon\n",
    "        a =(random.random() < epsilon)\n",
    "                                                                                 \n",
    "        if a == True:\n",
    "            chosen_action = random.choice(possible_actions)\n",
    "        else:\n",
    "            chosen_action = action\n",
    "        \n",
    "        #<YOUR CODE HERE>\n",
    "        \n",
    "        return chosen_action"
   ]
  },
  {
   "cell_type": "markdown",
   "metadata": {},
   "source": [
    "### Try it on taxi\n",
    "\n",
    "Here we use the qlearning agent on taxi env from openai gym.\n",
    "You will need to insert a few agent functions here."
   ]
  },
  {
   "cell_type": "code",
   "execution_count": 109,
   "metadata": {
    "collapsed": true
   },
   "outputs": [],
   "source": [
    "import gym\n",
    "env = gym.make(\"Taxi-v2\")\n",
    "\n",
    "n_actions = env.action_space.n"
   ]
  },
  {
   "cell_type": "code",
   "execution_count": 110,
   "metadata": {},
   "outputs": [
    {
     "name": "stdout",
     "output_type": "stream",
     "text": [
      "0\n"
     ]
    }
   ],
   "source": [
    "from qlearning import QLearningAgent\n",
    "\n",
    "agent = QLearningAgent(alpha=0.5, epsilon=0.25, discount=0.99,\n",
    "                       get_legal_actions = lambda s: range(n_actions))\n",
    "\n",
    "print(len(agent._qvalues))"
   ]
  },
  {
   "cell_type": "code",
   "execution_count": 111,
   "metadata": {
    "collapsed": true
   },
   "outputs": [],
   "source": [
    "def play_and_train(env,agent,t_max=10**4):\n",
    "    \"\"\"\n",
    "    This function should \n",
    "    - run a full game, actions given by agent's e-greedy policy\n",
    "    - train agent using agent.update(...) whenever it is possible\n",
    "    - return total reward\n",
    "    \"\"\"\n",
    "    total_reward = 0.0\n",
    "    s = env.reset()\n",
    "    print(s)\n",
    "    \n",
    "    for t in range(t_max):\n",
    "        # get agent to pick action given state s.\n",
    "        a = agent.get_action(s)#<YOUR CODE>\n",
    "        \n",
    "        next_s, r, done, _ = env.step(a)\n",
    "        \n",
    "        # train (update) agent for state s\n",
    "        #<YOUR CODE HERE>\n",
    "        agent.update(s, a, r, next_s)\n",
    "        \n",
    "        s = next_s\n",
    "        total_reward +=r\n",
    "        if done: break\n",
    "        \n",
    "    return total_reward\n",
    "    \n",
    "        \n",
    "    "
   ]
  },
  {
   "cell_type": "code",
   "execution_count": 112,
   "metadata": {},
   "outputs": [
    {
     "name": "stdout",
     "output_type": "stream",
     "text": [
      "eps = 2.9191091959171894e-05 mean reward = 9.1\n"
     ]
    },
    {
     "data": {
      "image/png": "[encoded data removed]",
      "text/plain": [
       "<Figure size 432x288 with 1 Axes>"
      ]
     },
     "metadata": {},
     "output_type": "display_data"
    },
    {
     "name": "stdout",
     "output_type": "stream",
     "text": [
      "466\n",
      "293\n",
      "169\n",
      "253\n",
      "113\n",
      "91\n",
      "133\n",
      "3\n",
      "369\n",
      "287\n",
      "253\n",
      "364\n",
      "333\n",
      "346\n",
      "213\n",
      "88\n",
      "23\n",
      "161\n",
      "68\n",
      "323\n",
      "3\n",
      "307\n",
      "252\n",
      "69\n",
      "248\n",
      "408\n",
      "133\n",
      "149\n",
      "22\n",
      "54\n",
      "149\n",
      "344\n",
      "471\n",
      "31\n",
      "453\n",
      "229\n",
      "142\n",
      "304\n",
      "143\n",
      "91\n",
      "468\n",
      "368\n",
      "487\n",
      "152\n",
      "489\n",
      "83\n",
      "123\n",
      "142\n",
      "51\n",
      "187\n",
      "234\n",
      "192\n",
      "102\n",
      "214\n",
      "488\n",
      "228\n",
      "468\n",
      "494\n",
      "384\n",
      "104\n",
      "484\n",
      "26\n",
      "301\n",
      "382\n",
      "414\n",
      "427\n",
      "381\n",
      "294\n",
      "94\n",
      "201\n",
      "262\n",
      "404\n",
      "484\n",
      "47\n",
      "308\n",
      "181\n",
      "114\n",
      "63\n",
      "82\n",
      "484\n",
      "106\n",
      "487\n",
      "34\n",
      "344\n",
      "81\n",
      "393\n",
      "33\n",
      "331\n",
      "283\n",
      "232\n",
      "168\n",
      "382\n",
      "241\n",
      "428\n",
      "281\n",
      "488\n",
      "474\n",
      "412\n",
      "193\n"
     ]
    }
   ],
   "source": [
    "from IPython.display import clear_output\n",
    "\n",
    "rewards = []\n",
    "for i in range(1000):\n",
    "    rewards.append(play_and_train(env, agent))\n",
    "    agent.epsilon *= 0.99\n",
    "    \n",
    "    if i %100 ==0:\n",
    "        clear_output(True)\n",
    "        print('eps =', agent.epsilon, 'mean reward =', np.mean(rewards[-10:]))\n",
    "        plt.plot(rewards)\n",
    "        plt.show()\n",
    "        "
   ]
  },
  {
   "cell_type": "code",
   "execution_count": 17,
   "metadata": {},
   "outputs": [
    {
     "data": {
      "text/plain": [
       "1692.9916587865537"
      ]
     },
     "execution_count": 17,
     "metadata": {},
     "output_type": "execute_result"
    }
   ],
   "source": [
    "#print(agent)\n",
    "agent.get_value(87)"
   ]
  },
  {
   "cell_type": "markdown",
   "metadata": {},
   "source": [
    "### Submit to Coursera I"
   ]
  },
  {
   "cell_type": "code",
   "execution_count": null,
   "metadata": {
    "collapsed": true
   },
   "outputs": [],
   "source": [
    "from submit import submit_qlearning1\n",
    "submit_qlearning1(rewards, 'vishnulampo@gmail.com', 'd1Ro3iQKhyMvKXvh')"
   ]
  },
  {
   "cell_type": "markdown",
   "metadata": {
    "collapsed": true
   },
   "source": [
    "# Binarized state spaces\n",
    "\n",
    "Use agent to train efficiently on CartPole-v0.\n",
    "This environment has a continuous set of possible states, so you will have to group them into bins somehow.\n",
    "\n",
    "The simplest way is to use `round(x,n_digits)` (or numpy round) to round real number to a given amount of digits.\n",
    "\n",
    "The tricky part is to get the n_digits right for each state to train effectively.\n",
    "\n",
    "Note that you don't need to convert state to integers, but to __tuples__ of any kind of values."
   ]
  },
  {
   "cell_type": "code",
   "execution_count": 52,
   "metadata": {},
   "outputs": [
    {
     "name": "stdout",
     "output_type": "stream",
     "text": [
      "\u001b[33mWARN: gym.spaces.Box autodetected dtype as <class 'numpy.float32'>. Please provide explicit dtype.\u001b[0m\n",
      "first state:[0.0378989  0.03676872 0.02625972 0.03206225]\n",
      "2\n"
     ]
    }
   ],
   "source": [
    "env = gym.make(\"CartPole-v0\")\n",
    "n_actions = env.action_space.n\n",
    "\n",
    "print(\"first state:%s\" % (env.reset()))\n",
    "#plt.imshow(env.render('rgb_array'))\n",
    "print((n_actions))"
   ]
  },
  {
   "cell_type": "markdown",
   "metadata": {},
   "source": [
    "### Play a few games\n",
    "\n",
    "We need to estimate observation distributions. To do so, we'll play a few games and record all states."
   ]
  },
  {
   "cell_type": "code",
   "execution_count": 53,
   "metadata": {},
   "outputs": [
    {
     "data": {
      "image/png": "[encoded data removed]",
      "text/plain": [
       "<Figure size 432x288 with 1 Axes>"
      ]
     },
     "metadata": {},
     "output_type": "display_data"
    },
    {
     "data": {
      "image/png": "[encoded data removed]",
      "text/plain": [
       "<Figure size 432x288 with 1 Axes>"
      ]
     },
     "metadata": {},
     "output_type": "display_data"
    },
    {
     "data": {
      "image/png": "[encoded data removed]",
      "text/plain": [
       "<Figure size 432x288 with 1 Axes>"
      ]
     },
     "metadata": {},
     "output_type": "display_data"
    },
    {
     "data": {
      "image/png": "[encoded data removed]",
      "text/plain": [
       "<Figure size 432x288 with 1 Axes>"
      ]
     },
     "metadata": {},
     "output_type": "display_data"
    }
   ],
   "source": [
    "all_states = []\n",
    "for _ in range(1000):\n",
    "    all_states.append(env.reset())\n",
    "    done = False\n",
    "    while not done:\n",
    "        s, r, done, _ = env.step(env.action_space.sample())\n",
    "        all_states.append(s)\n",
    "        if done: break\n",
    "            \n",
    "all_states = np.array(all_states)\n",
    "\n",
    "for obs_i in range(env.observation_space.shape[0]):\n",
    "    plt.hist(all_states[:, obs_i], bins=20)\n",
    "    plt.show()"
   ]
  },
  {
   "cell_type": "markdown",
   "metadata": {},
   "source": [
    "## Binarize environment"
   ]
  },
  {
   "cell_type": "code",
   "execution_count": 94,
   "metadata": {
    "collapsed": true
   },
   "outputs": [],
   "source": [
    "from gym.core import ObservationWrapper\n",
    "class Binarizer(ObservationWrapper):\n",
    "    \n",
    "    def _observation(self, state):    \n",
    "        \n",
    "        #state = <round state to some amount digits.>\n",
    "        #hint: you can do that with round(x,n_digits)\n",
    "        #you will need to pick a different n_digits for each dimension\n",
    "        state[0] = np.round(state[0],2)\n",
    "\n",
    "        state[1] = np.round(state[1],1)\n",
    "\n",
    "        state[2] = np.round(state[2],2)\n",
    "\n",
    "        state[3] = np.round(state[3],1)\n",
    "\n",
    "        return tuple(state)"
   ]
  },
  {
   "cell_type": "code",
   "execution_count": 95,
   "metadata": {},
   "outputs": [
    {
     "name": "stdout",
     "output_type": "stream",
     "text": [
      "\u001b[33mWARN: gym.spaces.Box autodetected dtype as <class 'numpy.float32'>. Please provide explicit dtype.\u001b[0m\n"
     ]
    }
   ],
   "source": [
    "env = Binarizer(gym.make(\"CartPole-v0\"))"
   ]
  },
  {
   "cell_type": "code",
   "execution_count": 96,
   "metadata": {},
   "outputs": [
    {
     "data": {
      "image/png": "[encoded data removed]",
      "text/plain": [
       "<Figure size 432x288 with 1 Axes>"
      ]
     },
     "metadata": {},
     "output_type": "display_data"
    },
    {
     "data": {
      "image/png": "[encoded data removed]",
      "text/plain": [
       "<Figure size 432x288 with 1 Axes>"
      ]
     },
     "metadata": {},
     "output_type": "display_data"
    },
    {
     "data": {
      "image/png": "[encoded data removed]",
      "text/plain": [
       "<Figure size 432x288 with 1 Axes>"
      ]
     },
     "metadata": {},
     "output_type": "display_data"
    },
    {
     "data": {
      "image/png": "[encoded data removed]",
      "text/plain": [
       "<Figure size 432x288 with 1 Axes>"
      ]
     },
     "metadata": {},
     "output_type": "display_data"
    }
   ],
   "source": [
    "all_states = []\n",
    "for _ in range(1000):\n",
    "    all_states.append(env.reset())\n",
    "    done = False\n",
    "    while not done:\n",
    "        s, r, done, _ = env.step(env.action_space.sample())\n",
    "        all_states.append(s)\n",
    "        if done: break\n",
    "            \n",
    "all_states = np.array(all_states)\n",
    "\n",
    "for obs_i in range(env.observation_space.shape[0]):\n",
    "    \n",
    "    plt.hist(all_states[:,obs_i],bins=250)\n",
    "    plt.show()"
   ]
  },
  {
   "cell_type": "markdown",
   "metadata": {},
   "source": [
    "## Learn binarized policy\n",
    "\n",
    "Now let's train a policy that uses binarized state space.\n",
    "\n",
    "__Tips:__ \n",
    "* If your binarization is too coarse, your agent may fail to find optimal policy. In that case, change binarization. \n",
    "* If your binarization is too fine-grained, your agent will take much longer than 1000 steps to converge. You can either increase number of iterations and decrease epsilon decay or change binarization.\n",
    "* Having 10^3 ~ 10^4 distinct states is recommended (`len(QLearningAgent._qvalues)`), but not required.\n"
   ]
  },
  {
   "cell_type": "code",
   "execution_count": 107,
   "metadata": {},
   "outputs": [
    {
     "name": "stdout",
     "output_type": "stream",
     "text": [
      "0\n"
     ]
    }
   ],
   "source": [
    "agent = QLearningAgent(alpha=0.5, epsilon=0.9, discount=0.99,\n",
    "                       get_legal_actions = lambda s: range(n_actions))\n",
    "\n",
    "print(len(agent._qvalues))"
   ]
  },
  {
   "cell_type": "code",
   "execution_count": 108,
   "metadata": {},
   "outputs": [
    {
     "name": "stdout",
     "output_type": "stream",
     "text": [
      "eps = 0.12300134025440884 mean reward = 96.1\n",
      "100316\n"
     ]
    },
    {
     "data": {
      "image/png": "[encoded data removed]",
      "text/plain": [
       "<Figure size 432x288 with 1 Axes>"
      ]
     },
     "metadata": {},
     "output_type": "display_data"
    },
    {
     "name": "stdout",
     "output_type": "stream",
     "text": [
      "(0.04, 0.0, -0.03, -0.0)\n",
      "(-0.03, 0.0, 0.04, -0.0)\n",
      "(-0.03, 0.0, -0.04, -0.0)\n",
      "(0.01, 0.0, 0.02, 0.0)\n",
      "(0.04, 0.0, 0.01, 0.0)\n",
      "(-0.01, -0.0, -0.01, -0.0)\n",
      "(0.02, -0.0, -0.04, -0.0)\n",
      "(0.02, 0.0, -0.03, -0.0)\n",
      "(-0.05, 0.0, -0.05, -0.0)\n",
      "(-0.03, 0.0, 0.05, -0.0)\n",
      "(-0.04, 0.0, 0.04, -0.0)\n",
      "(-0.01, 0.0, 0.03, -0.0)\n",
      "(0.02, -0.0, 0.02, 0.0)\n",
      "(0.04, -0.0, 0.01, -0.0)\n",
      "(-0.02, -0.0, -0.0, 0.0)\n",
      "(-0.03, -0.0, -0.02, -0.0)\n",
      "(-0.01, -0.0, -0.03, -0.0)\n",
      "(0.03, 0.0, 0.02, 0.0)\n",
      "(0.01, -0.0, -0.01, 0.0)\n",
      "(0.02, -0.0, 0.03, -0.0)\n",
      "(0.04, 0.0, -0.03, 0.0)\n",
      "(0.01, -0.0, -0.02, 0.0)\n",
      "(-0.02, 0.0, 0.05, -0.0)\n",
      "(-0.01, 0.0, 0.04, 0.0)\n",
      "(0.04, -0.0, 0.01, -0.0)\n",
      "(-0.01, -0.0, 0.01, 0.0)\n",
      "(-0.04, 0.0, -0.04, -0.0)\n",
      "(-0.03, -0.0, 0.02, 0.0)\n",
      "(-0.04, 0.0, -0.04, 0.0)\n",
      "(0.03, -0.0, 0.02, 0.0)\n",
      "(-0.0, 0.0, 0.02, -0.0)\n",
      "(-0.01, 0.0, -0.03, -0.0)\n",
      "(0.0, -0.0, 0.02, 0.0)\n",
      "(-0.02, 0.0, -0.0, -0.0)\n",
      "(0.0, 0.0, -0.02, 0.0)\n",
      "(-0.01, -0.0, 0.01, 0.0)\n",
      "(-0.04, 0.0, 0.0, -0.0)\n",
      "(-0.04, -0.0, 0.02, -0.0)\n",
      "(0.02, 0.0, -0.03, -0.0)\n",
      "(-0.02, 0.0, 0.0, 0.0)\n",
      "(-0.04, -0.0, -0.01, 0.0)\n",
      "(-0.03, 0.0, 0.04, -0.0)\n",
      "(-0.0, -0.0, -0.01, -0.0)\n",
      "(-0.01, -0.0, -0.01, 0.0)\n",
      "(0.05, 0.0, 0.01, 0.0)\n",
      "(0.03, 0.0, -0.03, -0.0)\n",
      "(0.04, 0.0, 0.02, -0.0)\n",
      "(0.02, 0.0, -0.04, -0.0)\n",
      "(-0.01, 0.0, -0.01, -0.0)\n",
      "(-0.05, -0.0, -0.02, -0.0)\n",
      "(-0.01, 0.0, 0.03, -0.0)\n",
      "(-0.03, 0.0, -0.05, -0.0)\n",
      "(-0.04, 0.0, 0.02, 0.0)\n",
      "(0.04, -0.0, -0.01, -0.0)\n",
      "(0.01, 0.0, 0.0, -0.0)\n",
      "(0.04, 0.0, 0.03, 0.0)\n",
      "(-0.04, -0.0, 0.02, -0.0)\n",
      "(0.04, 0.0, 0.02, 0.0)\n",
      "(0.01, 0.0, -0.01, 0.0)\n",
      "(-0.02, 0.0, -0.05, -0.0)\n",
      "(-0.01, 0.0, -0.01, 0.0)\n",
      "(-0.03, 0.0, -0.01, -0.0)\n",
      "(-0.03, -0.0, -0.04, -0.0)\n",
      "(0.01, -0.0, 0.03, -0.0)\n",
      "(-0.01, 0.0, 0.03, 0.0)\n",
      "(0.01, 0.0, -0.03, 0.0)\n",
      "(0.0, -0.0, -0.02, 0.0)\n",
      "(0.04, -0.0, 0.05, -0.0)\n",
      "(0.04, 0.0, -0.04, 0.0)\n",
      "(-0.02, -0.0, 0.04, -0.0)\n",
      "(-0.05, -0.0, 0.04, 0.0)\n",
      "(-0.01, 0.0, 0.04, 0.0)\n",
      "(0.01, -0.0, 0.01, -0.0)\n",
      "(0.02, -0.0, -0.03, -0.0)\n",
      "(-0.02, -0.0, 0.02, -0.0)\n",
      "(0.01, 0.0, 0.0, -0.0)\n",
      "(0.01, 0.0, -0.03, 0.0)\n",
      "(-0.02, -0.0, -0.03, -0.0)\n",
      "(-0.04, 0.0, -0.03, -0.0)\n",
      "(-0.04, -0.0, -0.01, 0.0)\n",
      "(-0.03, -0.0, 0.01, 0.0)\n",
      "(-0.01, -0.0, -0.03, 0.0)\n",
      "(-0.01, 0.0, -0.01, 0.0)\n",
      "(-0.04, -0.0, 0.03, -0.0)\n",
      "(0.03, 0.0, 0.05, -0.0)\n",
      "(-0.04, -0.0, -0.03, -0.0)\n",
      "(0.04, -0.0, 0.02, 0.0)\n",
      "(0.04, 0.0, -0.03, -0.0)\n",
      "(-0.0, -0.0, -0.04, -0.0)\n",
      "(-0.03, 0.0, 0.04, -0.0)\n",
      "(-0.04, -0.0, -0.01, 0.0)\n",
      "(0.03, -0.0, -0.01, -0.0)\n",
      "(-0.01, 0.0, 0.0, 0.0)\n",
      "(-0.04, 0.0, -0.03, 0.0)\n",
      "(-0.04, -0.0, 0.02, -0.0)\n",
      "(-0.01, 0.0, 0.0, 0.0)\n",
      "(-0.01, 0.0, -0.04, -0.0)\n",
      "(0.02, 0.0, -0.01, -0.0)\n",
      "(0.02, 0.0, 0.04, 0.0)\n"
     ]
    }
   ],
   "source": [
    "rewards2 = []\n",
    "for i in range(20000):\n",
    "    rewards2.append(play_and_train(env,agent)) \n",
    "    agent.epsilon *= 0.9999\n",
    "    \n",
    "    \n",
    "    #OPTIONAL YOUR CODE: adjust epsilon\n",
    "    if i %100 ==0:\n",
    "        clear_output(True)\n",
    "        print('eps =', agent.epsilon, 'mean reward =', np.mean(rewards2[-10:]))\n",
    "        print(len(agent._qvalues))\n",
    "        plt.plot(rewards2)\n",
    "        plt.show()\n",
    "        "
   ]
  },
  {
   "cell_type": "markdown",
   "metadata": {
    "collapsed": true
   },
   "source": [
    "### Submit to Coursera II"
   ]
  },
  {
   "cell_type": "code",
   "execution_count": 113,
   "metadata": {},
   "outputs": [
    {
     "name": "stdout",
     "output_type": "stream",
     "text": [
      "Submitted to Coursera platform. See results on assignment page!\n"
     ]
    }
   ],
   "source": [
    "from submit import submit_qlearning1\n",
    "submit_qlearning1(rewards, rewards2, 'vishnulampo@gmail.com', 'wSqfDMHUSiKmWkcH')"
   ]
  },
  {
   "cell_type": "code",
   "execution_count": null,
   "metadata": {
    "collapsed": true
   },
   "outputs": [],
   "source": []
  }
 ],
 "metadata": {
  "kernelspec": {
   "display_name": "Python 3",
   "language": "python",
   "name": "python3"
  },
  "language_info": {
   "codemirror_mode": {
    "name": "ipython",
    "version": 3
   },
   "file_extension": ".py",
   "mimetype": "text/x-python",
   "name": "python",
   "nbconvert_exporter": "python",
   "pygments_lexer": "ipython3",
   "version": "3.6.0"
  }
 },
 "nbformat": 4,
 "nbformat_minor": 1
}
